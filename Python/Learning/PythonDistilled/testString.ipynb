{
 "cells": [
  {
   "cell_type": "code",
   "execution_count": 2,
   "id": "68dd3a51",
   "metadata": {},
   "outputs": [
    {
     "name": "stdout",
     "output_type": "stream",
     "text": [
      "Content-type: text/html\n",
      "<h1> Hello World </h1>\n",
      "Click <a href=\"http://www.python.org\">here</a>.\n",
      "\n"
     ]
    }
   ],
   "source": [
    "print('''Content-type: text/html\n",
    "<h1> Hello World </h1>\n",
    "Click <a href=\"http://www.python.org\">here</a>.\n",
    "''')"
   ]
  },
  {
   "cell_type": "code",
   "execution_count": 3,
   "id": "b6e1df48",
   "metadata": {},
   "outputs": [
    {
     "name": "stdout",
     "output_type": "stream",
     "text": [
      "Content-type: text/html\n",
      "\n",
      "<h1> Hello World </h1>\n",
      "Clock <a href=\"http://www.python.org\">here</a>\n",
      "\n"
     ]
    }
   ],
   "source": [
    "print(\n",
    "'Content-type: text/html\\n'\n",
    "'\\n'\n",
    "'<h1> Hello World </h1>\\n'\n",
    "'Clock <a href=\"http://www.python.org\">here</a>\\n'\n",
    ")"
   ]
  },
  {
   "cell_type": "code",
   "execution_count": 10,
   "id": "9554642d",
   "metadata": {},
   "outputs": [
    {
     "name": "stdout",
     "output_type": "stream",
     "text": [
      "100\n"
     ]
    }
   ],
   "source": [
    "holding = ('GOOG', 100, 490.10)\n",
    "print(holding[1])"
   ]
  },
  {
   "cell_type": "code",
   "execution_count": 12,
   "id": "0893b039",
   "metadata": {},
   "outputs": [
    {
     "data": {
      "text/plain": [
       "{'CAT', 'HPE', 'IBM', 'MSFT'}"
      ]
     },
     "execution_count": 12,
     "metadata": {},
     "output_type": "execute_result"
    }
   ],
   "source": [
    "names1 = { 'IBM', 'MSFT', 'AA' }\n",
    "names2 = set(['IBM', 'MSFT', 'HPE', 'IBM', 'CAT'])\n",
    "names2"
   ]
  },
  {
   "cell_type": "code",
   "execution_count": null,
   "id": "c51e9720",
   "metadata": {},
   "outputs": [],
   "source": []
  },
  {
   "cell_type": "code",
   "execution_count": null,
   "id": "ba900f03",
   "metadata": {},
   "outputs": [],
   "source": []
  },
  {
   "cell_type": "code",
   "execution_count": null,
   "id": "8acb01db",
   "metadata": {},
   "outputs": [],
   "source": []
  },
  {
   "cell_type": "code",
   "execution_count": null,
   "id": "0d9412ba",
   "metadata": {},
   "outputs": [],
   "source": []
  },
  {
   "cell_type": "code",
   "execution_count": null,
   "id": "457028f9",
   "metadata": {},
   "outputs": [],
   "source": []
  }
 ],
 "metadata": {
  "kernelspec": {
   "display_name": "Python 3 (ipykernel)",
   "language": "python",
   "name": "python3"
  },
  "language_info": {
   "codemirror_mode": {
    "name": "ipython",
    "version": 3
   },
   "file_extension": ".py",
   "mimetype": "text/x-python",
   "name": "python",
   "nbconvert_exporter": "python",
   "pygments_lexer": "ipython3",
   "version": "3.11.5"
  }
 },
 "nbformat": 4,
 "nbformat_minor": 5
}
