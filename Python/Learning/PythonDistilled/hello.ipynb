{
 "cells": [
  {
   "cell_type": "code",
   "execution_count": 1,
   "id": "43713681",
   "metadata": {},
   "outputs": [],
   "source": [
    "a = 'Hello World'"
   ]
  },
  {
   "cell_type": "code",
   "execution_count": 2,
   "id": "cf4394c8",
   "metadata": {},
   "outputs": [
    {
     "name": "stdout",
     "output_type": "stream",
     "text": [
      "11\n"
     ]
    }
   ],
   "source": [
    "print(len(a))"
   ]
  },
  {
   "cell_type": "code",
   "execution_count": 3,
   "id": "b35e8a27",
   "metadata": {},
   "outputs": [],
   "source": [
    "b = a[4]"
   ]
  },
  {
   "cell_type": "code",
   "execution_count": 4,
   "id": "82727f85",
   "metadata": {},
   "outputs": [],
   "source": [
    "c = a[-1]"
   ]
  },
  {
   "cell_type": "code",
   "execution_count": 5,
   "id": "5d2926b6",
   "metadata": {},
   "outputs": [
    {
     "name": "stdout",
     "output_type": "stream",
     "text": [
      "o d\n"
     ]
    }
   ],
   "source": [
    "print(b,c)"
   ]
  },
  {
   "cell_type": "code",
   "execution_count": 6,
   "id": "94875515",
   "metadata": {},
   "outputs": [],
   "source": [
    "c = a[:5]"
   ]
  },
  {
   "cell_type": "code",
   "execution_count": 7,
   "id": "98c7dfe9",
   "metadata": {},
   "outputs": [],
   "source": [
    "d = a[6:]"
   ]
  },
  {
   "cell_type": "code",
   "execution_count": 9,
   "id": "b9abd774",
   "metadata": {},
   "outputs": [],
   "source": [
    "e = a[3:8]"
   ]
  },
  {
   "cell_type": "code",
   "execution_count": 10,
   "id": "ef96cf28",
   "metadata": {},
   "outputs": [],
   "source": [
    "f = a[-5:]"
   ]
  },
  {
   "cell_type": "code",
   "execution_count": 11,
   "id": "3095dbae",
   "metadata": {},
   "outputs": [],
   "source": [
    "g = a.replace('Hello', 'Hello Cruel')"
   ]
  },
  {
   "cell_type": "code",
   "execution_count": 18,
   "id": "05598a2f",
   "metadata": {},
   "outputs": [
    {
     "name": "stdout",
     "output_type": "stream",
     "text": [
      "Hello Cruel World\n"
     ]
    }
   ],
   "source": [
    "print(g)"
   ]
  },
  {
   "cell_type": "code",
   "execution_count": 19,
   "id": "a7c55943",
   "metadata": {},
   "outputs": [
    {
     "name": "stdout",
     "output_type": "stream",
     "text": [
      "hello\n",
      "world\n"
     ]
    }
   ],
   "source": [
    "#When debugging, use repr(s) to produce output because it\n",
    "#shows you more information about a value and its type.\n",
    "s = 'hello\\nworld'\n",
    "print(str(s))"
   ]
  },
  {
   "cell_type": "code",
   "execution_count": 21,
   "id": "9bb2d0c1",
   "metadata": {},
   "outputs": [
    {
     "name": "stdout",
     "output_type": "stream",
     "text": [
      "'hello\\nworld'\n"
     ]
    }
   ],
   "source": [
    "print(repr(s))"
   ]
  },
  {
   "cell_type": "code",
   "execution_count": 23,
   "id": "3dc3d510",
   "metadata": {},
   "outputs": [
    {
     "data": {
      "text/plain": [
       "'12.35'"
      ]
     },
     "execution_count": 23,
     "metadata": {},
     "output_type": "execute_result"
    }
   ],
   "source": [
    "x = 12.34567\n",
    "format(x, '0.2f')"
   ]
  },
  {
   "cell_type": "code",
   "execution_count": 26,
   "id": "b1839330",
   "metadata": {},
   "outputs": [
    {
     "name": "stdout",
     "output_type": "stream",
     "text": [
      "If you have to start learning about the Trading/Invesing today what will be your process.\n",
      "If you can help me to understand your thought process.\n",
      "\n",
      "Only if you are comfortable to talk about the same"
     ]
    }
   ],
   "source": [
    "#1.7 File Input and Output\n",
    "#Read file\n",
    "# with - will close the file automatically\n",
    "with open('data.txt') as file:\n",
    "    for line in file:\n",
    "        print(line, end='')"
   ]
  },
  {
   "cell_type": "code",
   "execution_count": 29,
   "id": "ea4a5732",
   "metadata": {},
   "outputs": [
    {
     "name": "stdout",
     "output_type": "stream",
     "text": [
      "If you have to start learning about the Trading/Invesing today what will be your process.\n",
      "If you can help me to understand your thought process.\n",
      "\n",
      "Only if you are comfortable to talk about the same"
     ]
    }
   ],
   "source": [
    "# Will not close the file automatically\n",
    "file = open('data.txt')\n",
    "for line in file:\n",
    "    print(line, end='') # end='' omits the extra newline\n",
    "file.close()"
   ]
  },
  {
   "cell_type": "code",
   "execution_count": 31,
   "id": "5f4619f1",
   "metadata": {},
   "outputs": [
    {
     "name": "stdout",
     "output_type": "stream",
     "text": [
      "If you have to start learning about the Trading/Invesing today what will be your process.\n",
      "If you can help me to understand your thought process.\n",
      "\n",
      "Only if you are comfortable to talk about the same"
     ]
    }
   ],
   "source": [
    "#Read file in chunks\n",
    "with open('data.txt') as file:\n",
    "    while (chunk := file.read(10000)):\n",
    "        print(chunk, end='')"
   ]
  },
  {
   "cell_type": "code",
   "execution_count": 33,
   "id": "5f83624b",
   "metadata": {},
   "outputs": [
    {
     "name": "stdout",
     "output_type": "stream",
     "text": [
      "If you have to start learning about the Trading/Invesing today what will be your process.\n",
      "If you can help me to understand your thought process.\n",
      "\n",
      "Only if you are comfortable to talk about the same"
     ]
    }
   ],
   "source": [
    "with open('data.txt') as file:\n",
    "    while True:\n",
    "        chunk = file.read(10000)\n",
    "        if not chunk:\n",
    "            break\n",
    "        print(chunk, end='')"
   ]
  },
  {
   "cell_type": "code",
   "execution_count": 42,
   "id": "50f5decc",
   "metadata": {},
   "outputs": [],
   "source": [
    "#Write file\n",
    "base_year = 2020\n",
    "principal=100\n",
    "rate =0.26\n",
    "numofyears =10\n",
    "year =1\n",
    "with open('out.txt','wt') as out:\n",
    "    while year < numofyears:\n",
    "        principal = principal * (1+rate)\n",
    "        print(f'{base_year+year:4d} {principal:0.2f}',file=out)\n",
    "        year+=1"
   ]
  },
  {
   "cell_type": "code",
   "execution_count": 45,
   "id": "b8224132",
   "metadata": {},
   "outputs": [
    {
     "name": "stdout",
     "output_type": "stream",
     "text": [
      "Thomas\n",
      "Thomas\n",
      "Lewis\n",
      "Alex\n",
      "Aya\n"
     ]
    }
   ],
   "source": [
    "#List and Collection\n",
    "names = [ 'Dave', 'Paula', 'Thomas', 'Lewis' ]\n",
    "a = names[2]\n",
    "print(a)\n",
    "names[2] = 'Tom'\n",
    "print(a)\n",
    "print(names[-1])\n",
    "\n",
    "#Append\n",
    "names.append('Alex')\n",
    "#insert\n",
    "names.insert(2, 'Aya')\n",
    "print(names[-1])\n",
    "print(names[2])"
   ]
  },
  {
   "cell_type": "code",
   "execution_count": 46,
   "id": "9c8d5bec",
   "metadata": {},
   "outputs": [
    {
     "name": "stdout",
     "output_type": "stream",
     "text": [
      "Dave\n",
      "Paula\n",
      "Aya\n",
      "Tom\n",
      "Lewis\n",
      "Alex\n"
     ]
    }
   ],
   "source": [
    "for name in names:\n",
    "    print(name)"
   ]
  },
  {
   "cell_type": "code",
   "execution_count": 48,
   "id": "9b6d01fe",
   "metadata": {},
   "outputs": [
    {
     "name": "stdout",
     "output_type": "stream",
     "text": [
      "['Dave', 'Paula']\n"
     ]
    }
   ],
   "source": [
    "b = names[0:2]\n",
    "print(b)"
   ]
  },
  {
   "cell_type": "code",
   "execution_count": 50,
   "id": "a8ca4426",
   "metadata": {},
   "outputs": [
    {
     "name": "stdout",
     "output_type": "stream",
     "text": [
      "['Aya', 'Tom', 'Lewis', 'Alex']\n"
     ]
    }
   ],
   "source": [
    "c = names[2:]\n",
    "print(c)"
   ]
  },
  {
   "cell_type": "code",
   "execution_count": 52,
   "id": "c6188a87",
   "metadata": {},
   "outputs": [
    {
     "name": "stdout",
     "output_type": "stream",
     "text": [
      "Dave\n",
      "Mark\n",
      "Jeff\n",
      "Jeff\n",
      "Aya\n",
      "Tom\n",
      "Lewis\n",
      "Alex\n"
     ]
    }
   ],
   "source": [
    "names[1] = 'Becky'\n",
    "names[0:2] = ['Dave', 'Mark', 'Jeff']\n",
    "for name in names:\n",
    "    print(name)"
   ]
  },
  {
   "cell_type": "code",
   "execution_count": 55,
   "id": "296f421f",
   "metadata": {},
   "outputs": [
    {
     "name": "stdout",
     "output_type": "stream",
     "text": [
      "['x', 'y', 'z', 'z', 'y']\n"
     ]
    }
   ],
   "source": [
    "a = ['x','y'] + ['z','z','y']\n",
    "print(a)"
   ]
  },
  {
   "cell_type": "code",
   "execution_count": 56,
   "id": "65e705ec",
   "metadata": {},
   "outputs": [],
   "source": [
    "names = []\n",
    "names = list()"
   ]
  },
  {
   "cell_type": "code",
   "execution_count": 57,
   "id": "882c96fc",
   "metadata": {},
   "outputs": [
    {
     "name": "stdout",
     "output_type": "stream",
     "text": [
      "[1, 'Dave', 3.14, ['Mark', 7, 9, [100, 101]], 10]\n"
     ]
    }
   ],
   "source": [
    "a = [1, 'Dave', 3.14, ['Mark', 7, 9, [100, 101]], 10]\n",
    "print(a)"
   ]
  },
  {
   "cell_type": "code",
   "execution_count": null,
   "id": "b2c1a51a",
   "metadata": {},
   "outputs": [],
   "source": []
  }
 ],
 "metadata": {
  "kernelspec": {
   "display_name": "Python 3 (ipykernel)",
   "language": "python",
   "name": "python3"
  },
  "language_info": {
   "codemirror_mode": {
    "name": "ipython",
    "version": 3
   },
   "file_extension": ".py",
   "mimetype": "text/x-python",
   "name": "python",
   "nbconvert_exporter": "python",
   "pygments_lexer": "ipython3",
   "version": "3.11.5"
  }
 },
 "nbformat": 4,
 "nbformat_minor": 5
}
