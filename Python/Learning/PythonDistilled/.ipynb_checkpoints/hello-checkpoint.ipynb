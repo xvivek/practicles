{
 "cells": [
  {
   "cell_type": "code",
   "execution_count": 1,
   "id": "43713681",
   "metadata": {},
   "outputs": [],
   "source": [
    "a = 'Hello World'"
   ]
  },
  {
   "cell_type": "code",
   "execution_count": 2,
   "id": "f9793c79",
   "metadata": {},
   "outputs": [
    {
     "name": "stdout",
     "output_type": "stream",
     "text": [
      "11\n"
     ]
    }
   ],
   "source": [
    "print(len(a))"
   ]
  },
  {
   "cell_type": "code",
   "execution_count": 3,
   "id": "b0bdf909",
   "metadata": {},
   "outputs": [],
   "source": [
    "b = a[4]"
   ]
  },
  {
   "cell_type": "code",
   "execution_count": 4,
   "id": "1c1ab3e8",
   "metadata": {},
   "outputs": [],
   "source": [
    "c = a[-1]"
   ]
  },
  {
   "cell_type": "code",
   "execution_count": 5,
   "id": "938eef63",
   "metadata": {},
   "outputs": [
    {
     "name": "stdout",
     "output_type": "stream",
     "text": [
      "o d\n"
     ]
    }
   ],
   "source": [
    "print(b,c)"
   ]
  },
  {
   "cell_type": "code",
   "execution_count": 6,
   "id": "7b856c98",
   "metadata": {},
   "outputs": [],
   "source": [
    "c = a[:5]"
   ]
  },
  {
   "cell_type": "code",
   "execution_count": 7,
   "id": "33a9d933",
   "metadata": {},
   "outputs": [],
   "source": [
    "d = a[6:]"
   ]
  },
  {
   "cell_type": "code",
   "execution_count": 9,
   "id": "43726064",
   "metadata": {},
   "outputs": [],
   "source": [
    "e = a[3:8]"
   ]
  },
  {
   "cell_type": "code",
   "execution_count": 10,
   "id": "edcb4ba9",
   "metadata": {},
   "outputs": [],
   "source": [
    "f = a[-5:]"
   ]
  },
  {
   "cell_type": "code",
   "execution_count": 11,
   "id": "a16d688b",
   "metadata": {},
   "outputs": [],
   "source": [
    "g = a.replace('Hello', 'Hello Cruel')"
   ]
  },
  {
   "cell_type": "code",
   "execution_count": 18,
   "id": "7fe6ad49",
   "metadata": {},
   "outputs": [
    {
     "name": "stdout",
     "output_type": "stream",
     "text": [
      "Hello Cruel World\n"
     ]
    }
   ],
   "source": [
    "print(g)"
   ]
  },
  {
   "cell_type": "code",
   "execution_count": 19,
   "id": "f8e2894d",
   "metadata": {},
   "outputs": [
    {
     "name": "stdout",
     "output_type": "stream",
     "text": [
      "hello\n",
      "world\n"
     ]
    }
   ],
   "source": [
    "#When debugging, use repr(s) to produce output because it\n",
    "#shows you more information about a value and its type.\n",
    "s = 'hello\\nworld'\n",
    "print(str(s))"
   ]
  },
  {
   "cell_type": "code",
   "execution_count": 21,
   "id": "f7932338",
   "metadata": {},
   "outputs": [
    {
     "name": "stdout",
     "output_type": "stream",
     "text": [
      "'hello\\nworld'\n"
     ]
    }
   ],
   "source": [
    "print(repr(s))"
   ]
  },
  {
   "cell_type": "code",
   "execution_count": 23,
   "id": "7705245d",
   "metadata": {},
   "outputs": [
    {
     "data": {
      "text/plain": [
       "'12.35'"
      ]
     },
     "execution_count": 23,
     "metadata": {},
     "output_type": "execute_result"
    }
   ],
   "source": [
    "x = 12.34567\n",
    "format(x, '0.2f')"
   ]
  },
  {
   "cell_type": "code",
   "execution_count": 26,
   "id": "e2071c43",
   "metadata": {},
   "outputs": [
    {
     "name": "stdout",
     "output_type": "stream",
     "text": [
      "If you have to start learning about the Trading/Invesing today what will be your process.\n",
      "If you can help me to understand your thought process.\n",
      "\n",
      "Only if you are comfortable to talk about the same"
     ]
    }
   ],
   "source": [
    "#1.7 File Input and Output\n",
    "#Read file\n",
    "# with - will close the file automatically\n",
    "with open('data.txt') as file:\n",
    "    for line in file:\n",
    "        print(line, end='')"
   ]
  },
  {
   "cell_type": "code",
   "execution_count": 29,
   "id": "d290903f",
   "metadata": {},
   "outputs": [
    {
     "name": "stdout",
     "output_type": "stream",
     "text": [
      "If you have to start learning about the Trading/Invesing today what will be your process.\n",
      "If you can help me to understand your thought process.\n",
      "\n",
      "Only if you are comfortable to talk about the same"
     ]
    }
   ],
   "source": [
    "# Will not close the file automatically\n",
    "file = open('data.txt')\n",
    "for line in file:\n",
    "    print(line, end='') # end='' omits the extra newline\n",
    "file.close()"
   ]
  },
  {
   "cell_type": "code",
   "execution_count": 31,
   "id": "02040c06",
   "metadata": {},
   "outputs": [
    {
     "name": "stdout",
     "output_type": "stream",
     "text": [
      "If you have to start learning about the Trading/Invesing today what will be your process.\n",
      "If you can help me to understand your thought process.\n",
      "\n",
      "Only if you are comfortable to talk about the same"
     ]
    }
   ],
   "source": [
    "#Read file in chunks\n",
    "with open('data.txt') as file:\n",
    "    while (chunk := file.read(10000)):\n",
    "        print(chunk, end='')"
   ]
  },
  {
   "cell_type": "code",
   "execution_count": 33,
   "id": "bace4932",
   "metadata": {},
   "outputs": [
    {
     "name": "stdout",
     "output_type": "stream",
     "text": [
      "If you have to start learning about the Trading/Invesing today what will be your process.\n",
      "If you can help me to understand your thought process.\n",
      "\n",
      "Only if you are comfortable to talk about the same"
     ]
    }
   ],
   "source": [
    "with open('data.txt') as file:\n",
    "    while True:\n",
    "        chunk = file.read(10000)\n",
    "        if not chunk:\n",
    "            break\n",
    "        print(chunk, end='')"
   ]
  },
  {
   "cell_type": "code",
   "execution_count": 42,
   "id": "38b360d5",
   "metadata": {},
   "outputs": [],
   "source": [
    "#Write file\n",
    "base_year = 2020\n",
    "principal=100\n",
    "rate =0.26\n",
    "numofyears =10\n",
    "year =1\n",
    "with open('out.txt','wt') as out:\n",
    "    while year < numofyears:\n",
    "        principal = principal * (1+rate)\n",
    "        print(f'{base_year+year:4d} {principal:0.2f}',file=out)\n",
    "        year+=1"
   ]
  },
  {
   "cell_type": "code",
   "execution_count": 45,
   "id": "11b1a57a",
   "metadata": {},
   "outputs": [
    {
     "name": "stdout",
     "output_type": "stream",
     "text": [
      "Thomas\n",
      "Thomas\n",
      "Lewis\n",
      "Alex\n",
      "Aya\n"
     ]
    }
   ],
   "source": [
    "#List and Collection\n",
    "names = [ 'Dave', 'Paula', 'Thomas', 'Lewis' ]\n",
    "a = names[2]\n",
    "print(a)\n",
    "names[2] = 'Tom'\n",
    "print(a)\n",
    "print(names[-1])\n",
    "\n",
    "#Append\n",
    "names.append('Alex')\n",
    "#insert\n",
    "names.insert(2, 'Aya')\n",
    "print(names[-1])\n",
    "print(names[2])"
   ]
  },
  {
   "cell_type": "code",
   "execution_count": null,
   "id": "9b164be6",
   "metadata": {},
   "outputs": [],
   "source": [
    "for name in names:\n",
    "    print(name)"
   ]
  },
  {
   "cell_type": "code",
   "execution_count": null,
   "id": "f24bbb18",
   "metadata": {},
   "outputs": [],
   "source": []
  }
 ],
 "metadata": {
  "kernelspec": {
   "display_name": "Python 3 (ipykernel)",
   "language": "python",
   "name": "python3"
  },
  "language_info": {
   "codemirror_mode": {
    "name": "ipython",
    "version": 3
   },
   "file_extension": ".py",
   "mimetype": "text/x-python",
   "name": "python",
   "nbconvert_exporter": "python",
   "pygments_lexer": "ipython3",
   "version": "3.11.5"
  }
 },
 "nbformat": 4,
 "nbformat_minor": 5
}
