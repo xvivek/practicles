{
 "cells": [
  {
   "cell_type": "code",
   "execution_count": 2,
   "id": "dd994f04",
   "metadata": {},
   "outputs": [
    {
     "name": "stdout",
     "output_type": "stream",
     "text": [
      "Content-type: text/html\n",
      "<h1> Hello World </h1>\n",
      "Click <a href=\"http://www.python.org\">here</a>.\n",
      "\n"
     ]
    }
   ],
   "source": [
    "print('''Content-type: text/html\n",
    "<h1> Hello World </h1>\n",
    "Click <a href=\"http://www.python.org\">here</a>.\n",
    "''')"
   ]
  },
  {
   "cell_type": "code",
   "execution_count": 3,
   "id": "39e55c1c",
   "metadata": {},
   "outputs": [
    {
     "name": "stdout",
     "output_type": "stream",
     "text": [
      "Content-type: text/html\n",
      "\n",
      "<h1> Hello World </h1>\n",
      "Clock <a href=\"http://www.python.org\">here</a>\n",
      "\n"
     ]
    }
   ],
   "source": [
    "print(\n",
    "'Content-type: text/html\\n'\n",
    "'\\n'\n",
    "'<h1> Hello World </h1>\\n'\n",
    "'Clock <a href=\"http://www.python.org\">here</a>\\n'\n",
    ")"
   ]
  },
  {
   "cell_type": "code",
   "execution_count": null,
   "id": "c3385efd",
   "metadata": {},
   "outputs": [],
   "source": [
    "holding = ('GOOG', 100, 490.10)\n",
    "print(holding(1))"
   ]
  }
 ],
 "metadata": {
  "kernelspec": {
   "display_name": "Python 3 (ipykernel)",
   "language": "python",
   "name": "python3"
  },
  "language_info": {
   "codemirror_mode": {
    "name": "ipython",
    "version": 3
   },
   "file_extension": ".py",
   "mimetype": "text/x-python",
   "name": "python",
   "nbconvert_exporter": "python",
   "pygments_lexer": "ipython3",
   "version": "3.11.5"
  }
 },
 "nbformat": 4,
 "nbformat_minor": 5
}
