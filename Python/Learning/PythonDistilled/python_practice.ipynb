{
 "cells": [
  {
   "cell_type": "code",
   "execution_count": 35,
   "id": "e4c00bee-26ea-4f28-a116-2d93b2e8d75c",
   "metadata": {},
   "outputs": [
    {
     "name": "stdout",
     "output_type": "stream",
     "text": [
      "90 1\n",
      "78 2\n",
      "56 3\n",
      "34 4\n",
      "12 5\n"
     ]
    }
   ],
   "source": [
    "i =0\n",
    "s = [90, 78, 56, 34, 12]\n",
    "t = [1,2,3,4 ,5 ,6]\n",
    "for x,y in zip(s,t):\n",
    "    print(x,y)"
   ]
  },
  {
   "cell_type": "code",
   "execution_count": 75,
   "id": "d1090b41-99a7-49fa-b468-fd05aab9c8e2",
   "metadata": {},
   "outputs": [
    {
     "name": "stdout",
     "output_type": "stream",
     "text": [
      "Knowledge of calculus is not required to get results and solve problems in machine learning or deep learning.\n",
      "However, knowing some calculus will help you in a number of ways, such as in reading mathematical notation in books and papers, and in understanding the terms used to describe fitting models like “gradient,” and in understanding the learning dynamics of models fit via optimization such as neural networks.\n",
      "Calculus is a challenging topic as taught at a university level, but you don’t need to know all of calculus, just a handful of terms and methods related to numerical function optimization, central to fitting algorithms like neural networks. And the best way to get a handle on calculus is from books.\n",
      "Which books on machine learning provide a gentle introduction to the relevant calculus topics.\n",
      "Books that you can use to learn the intuitions, history, and techniques of calculus.\n",
      "Textbooks you can use for reference or deeper learning of calculus techniques and their proofs.\n",
      "excuting finally\n"
     ]
    }
   ],
   "source": [
    "try:\n",
    "    file = open('foo.txt', encoding='utf-8')\n",
    "except FileNotFoundError as e:\n",
    "    print('file not found')\n",
    "    raise    \n",
    "else:\n",
    "    data = file.read()\n",
    "    print(data)\n",
    "finally:\n",
    "    print('excuting finally')\n",
    "    file.close()"
   ]
  },
  {
   "cell_type": "code",
   "execution_count": 1,
   "id": "ed535e9d-bd14-4d2a-8853-eab3a03e2747",
   "metadata": {},
   "outputs": [
    {
     "ename": "NameError",
     "evalue": "name 'err' is not defined",
     "output_type": "error",
     "traceback": [
      "\u001b[1;31m---------------------------------------------------------------------------\u001b[0m",
      "\u001b[1;31mValueError\u001b[0m                                Traceback (most recent call last)",
      "Cell \u001b[1;32mIn[1], line 11\u001b[0m, in \u001b[0;36mspam\u001b[1;34m()\u001b[0m\n\u001b[0;32m     10\u001b[0m \u001b[38;5;28;01mtry\u001b[39;00m:\n\u001b[1;32m---> 11\u001b[0m     do_something()\n\u001b[0;32m     12\u001b[0m \u001b[38;5;66;03m#except Exception as e:\u001b[39;00m\n\u001b[0;32m     13\u001b[0m \u001b[38;5;66;03m#    raise ApplicationError('It failed') from e\u001b[39;00m\n",
      "Cell \u001b[1;32mIn[1], line 7\u001b[0m, in \u001b[0;36mdo_something\u001b[1;34m()\u001b[0m\n\u001b[0;32m      6\u001b[0m \u001b[38;5;28;01mdef\u001b[39;00m \u001b[38;5;21mdo_something\u001b[39m():\n\u001b[1;32m----> 7\u001b[0m     x \u001b[38;5;241m=\u001b[39m \u001b[38;5;28mint\u001b[39m(\u001b[38;5;124m'\u001b[39m\u001b[38;5;124mN/A\u001b[39m\u001b[38;5;124m'\u001b[39m)\n",
      "\u001b[1;31mValueError\u001b[0m: invalid literal for int() with base 10: 'N/A'",
      "\nDuring handling of the above exception, another exception occurred:\n",
      "\u001b[1;31mNameError\u001b[0m                                 Traceback (most recent call last)",
      "Cell \u001b[1;32mIn[1], line 18\u001b[0m\n\u001b[0;32m     15\u001b[0m         \u001b[38;5;28mprint\u001b[39m(\u001b[38;5;124m'\u001b[39m\u001b[38;5;124mit failed \u001b[39m\u001b[38;5;124m'\u001b[39m, err)\n\u001b[0;32m     17\u001b[0m \u001b[38;5;28;01mtry\u001b[39;00m:\n\u001b[1;32m---> 18\u001b[0m     spam()\n\u001b[0;32m     19\u001b[0m \u001b[38;5;28;01mexcept\u001b[39;00m ApplicationError \u001b[38;5;28;01mas\u001b[39;00m e:\n\u001b[0;32m     20\u001b[0m     \u001b[38;5;66;03m#print(e.__cause__)\u001b[39;00m\n\u001b[0;32m     21\u001b[0m     \u001b[38;5;66;03m#print('it failed', e)\u001b[39;00m\n\u001b[0;32m     22\u001b[0m     \u001b[38;5;66;03m#if e.__context__:\u001b[39;00m\n\u001b[0;32m     23\u001b[0m     \u001b[38;5;66;03m#    print(e.__context__)\u001b[39;00m\n\u001b[0;32m     24\u001b[0m     tblines \u001b[38;5;241m=\u001b[39m traceback\u001b[38;5;241m.\u001b[39mformat_exception(\u001b[38;5;28mtype\u001b[39m(e), e, e\u001b[38;5;241m.\u001b[39m__traceback__)\n",
      "Cell \u001b[1;32mIn[1], line 15\u001b[0m, in \u001b[0;36mspam\u001b[1;34m()\u001b[0m\n\u001b[0;32m     12\u001b[0m \u001b[38;5;66;03m#except Exception as e:\u001b[39;00m\n\u001b[0;32m     13\u001b[0m \u001b[38;5;66;03m#    raise ApplicationError('It failed') from e\u001b[39;00m\n\u001b[0;32m     14\u001b[0m \u001b[38;5;28;01mexcept\u001b[39;00m \u001b[38;5;167;01mException\u001b[39;00m \u001b[38;5;28;01mas\u001b[39;00m e:\n\u001b[1;32m---> 15\u001b[0m     \u001b[38;5;28mprint\u001b[39m(\u001b[38;5;124m'\u001b[39m\u001b[38;5;124mit failed \u001b[39m\u001b[38;5;124m'\u001b[39m, err)\n",
      "\u001b[1;31mNameError\u001b[0m: name 'err' is not defined"
     ]
    }
   ],
   "source": [
    "import traceback\n",
    "\n",
    "class ApplicationError(Exception):\n",
    "    pass\n",
    "\n",
    "def do_something():\n",
    "    x = int('N/A')\n",
    "\n",
    "def spam():\n",
    "    try:\n",
    "        do_something()\n",
    "    #except Exception as e:\n",
    "    #    raise ApplicationError('It failed') from e\n",
    "    except Exception as e:\n",
    "        print('it failed ', err)\n",
    "\n",
    "try:\n",
    "    spam()\n",
    "except ApplicationError as e:\n",
    "    #print(e.__cause__)\n",
    "    #print('it failed', e)\n",
    "    #if e.__context__:\n",
    "    #    print(e.__context__)\n",
    "    tblines = traceback.format_exception(type(e), e, e.__traceback__)\n",
    "    tbmsg = ''.join(tblines)\n",
    "    print('It failed:')\n",
    "    print(tbmsg)\n",
    "\n"
   ]
  },
  {
   "cell_type": "code",
   "execution_count": 12,
   "id": "7e370bbc-b87e-4a98-a74f-24c6cdecf9f9",
   "metadata": {},
   "outputs": [
    {
     "name": "stdout",
     "output_type": "stream",
     "text": [
      "[1, 2, 3, 5, 6]\n",
      "[1, 2, 3, 5, 6]\n"
     ]
    }
   ],
   "source": [
    "class ListTransaction:\n",
    "    def __init__(self, thelist):\n",
    "        self.thelist=thelist\n",
    "    def __enter__(self):\n",
    "        self.workingcopy=list(self.thelist)\n",
    "        return self.workingcopy\n",
    "    def __exit__(self, type,value, tb):\n",
    "        if type is None:\n",
    "            self.thelist[:] = self.workingcopy\n",
    "        return False\n",
    "        \n",
    "items = [1,2,3]\n",
    "\n",
    "with ListTransaction(items) as working:\n",
    "    working.append(5)\n",
    "    working.append(6)\n",
    "print(items)\n",
    "\n",
    "try:\n",
    "    with ListTransaction(items) as working:\n",
    "        working.append(7)\n",
    "        working.append(8)\n",
    "        raise RuntimeError(\"some error\")\n",
    "except RuntimeError:\n",
    "    pass\n",
    "\n",
    "print(items)"
   ]
  },
  {
   "cell_type": "markdown",
   "id": "066bfc1c-6231-4d7a-9b6a-d0a5a4687103",
   "metadata": {},
   "source": [
    "*********************************\n",
    "Assertions and __debug__\n",
    "*********************************"
   ]
  },
  {
   "cell_type": "code",
   "execution_count": 1,
   "id": "bf48e6fe-5de8-4c1e-898e-a64a11e45217",
   "metadata": {},
   "outputs": [],
   "source": [
    "def factorial(n):\n",
    "    result = 1\n",
    "    while n > 1:\n",
    "        result *= n\n",
    "        n -= 1\n",
    "    return result\n",
    "\n",
    "assert factorial(5)==120"
   ]
  },
  {
   "cell_type": "markdown",
   "id": "276b53a3-eb68-4688-9bc9-df6497d6b184",
   "metadata": {},
   "source": [
    "Objects, Types, and Protocols"
   ]
  },
  {
   "cell_type": "code",
   "execution_count": 3,
   "id": "6e923862-ee3b-44ca-9815-f28112f8d758",
   "metadata": {},
   "outputs": [],
   "source": [
    "a=34\n",
    "a.numerator\n",
    "c = a+4"
   ]
  },
  {
   "cell_type": "code",
   "execution_count": 6,
   "id": "7844afa2-ffdc-4829-bdc0-fcce988f580d",
   "metadata": {},
   "outputs": [],
   "source": [
    "b = [2,3,4]\n",
    "b.append(9)\n",
    "d = b + [4, 5]"
   ]
  },
  {
   "cell_type": "code",
   "execution_count": 7,
   "id": "7dc3d827-315e-4381-8b83-8e8d13b667ab",
   "metadata": {},
   "outputs": [
    {
     "name": "stdout",
     "output_type": "stream",
     "text": [
      "[2, 3, 4, 9, 4, 5]\n"
     ]
    }
   ],
   "source": [
    "print(d)"
   ]
  },
  {
   "cell_type": "markdown",
   "id": "3f5d5f1b-15f8-4d4f-947a-9f3f9b2542fa",
   "metadata": {},
   "source": []
  },
  {
   "cell_type": "markdown",
   "id": "ec3af870-24b5-425a-9412-1e70d8ee7997",
   "metadata": {},
   "source": [
    "4.2 Object Identity and Type"
   ]
  },
  {
   "cell_type": "code",
   "execution_count": 8,
   "id": "e5a80bb8-a00f-4258-99a2-c1ebc936def9",
   "metadata": {},
   "outputs": [],
   "source": [
    "def compare(a, b):\n",
    "    if a is b:\n",
    "        print(\"same object\")\n",
    "    if a==b:\n",
    "        print(\"same value\")\n",
    "    if type(a)==type(b):\n",
    "        print(\"same type\")"
   ]
  },
  {
   "cell_type": "code",
   "execution_count": 9,
   "id": "91b4b8ce-74bb-4a34-8995-988610e60f1c",
   "metadata": {},
   "outputs": [
    {
     "name": "stdout",
     "output_type": "stream",
     "text": [
      "same object\n",
      "same value\n",
      "same type\n"
     ]
    }
   ],
   "source": [
    "compare(a,a)"
   ]
  },
  {
   "cell_type": "code",
   "execution_count": 12,
   "id": "85e4ec45-13b4-4258-9437-8370ac459a00",
   "metadata": {},
   "outputs": [],
   "source": [
    "b = [2,3,4]\n",
    "a = [2,3,4]"
   ]
  },
  {
   "cell_type": "code",
   "execution_count": 14,
   "id": "4d36bb9a-6ac4-4c98-b90b-e7e853ac126d",
   "metadata": {},
   "outputs": [
    {
     "name": "stdout",
     "output_type": "stream",
     "text": [
      "same value\n",
      "same type\n"
     ]
    }
   ],
   "source": [
    "compare(a,b)"
   ]
  },
  {
   "cell_type": "code",
   "execution_count": 16,
   "id": "c851e65c-8d41-4285-b743-3a42e4dabece",
   "metadata": {},
   "outputs": [
    {
     "name": "stdout",
     "output_type": "stream",
     "text": [
      "same object\n",
      "same value\n",
      "same type\n"
     ]
    }
   ],
   "source": [
    "compare(a,a)"
   ]
  },
  {
   "cell_type": "code",
   "execution_count": 18,
   "id": "de80fefc-9ca5-4ec0-bbb0-62da84080c84",
   "metadata": {},
   "outputs": [
    {
     "name": "stdout",
     "output_type": "stream",
     "text": [
      "same value\n",
      "same type\n"
     ]
    }
   ],
   "source": [
    "compare(a, [2,3,4])"
   ]
  },
  {
   "cell_type": "code",
   "execution_count": 23,
   "id": "35d1262f-b3cd-43d0-bf5d-fe3b034f8a09",
   "metadata": {},
   "outputs": [],
   "source": [
    "items = list()\n",
    "if isinstance(items, list):\n",
    "    items.append(5)"
   ]
  },
  {
   "cell_type": "code",
   "execution_count": 24,
   "id": "cb8e1eab-ccee-4363-b266-228eefbdfd39",
   "metadata": {},
   "outputs": [],
   "source": [
    "def removeall(items:list, item) -> list:\n",
    "    return [i for i in items if i!= item]"
   ]
  },
  {
   "cell_type": "code",
   "execution_count": 25,
   "id": "34c7ad26-0c57-4f2c-a4ed-c83d3d6331c0",
   "metadata": {},
   "outputs": [
    {
     "data": {
      "text/plain": [
       "[]"
      ]
     },
     "execution_count": 25,
     "metadata": {},
     "output_type": "execute_result"
    }
   ],
   "source": [
    "removeall(items, 5)"
   ]
  },
  {
   "cell_type": "code",
   "execution_count": 27,
   "id": "1832d00e-0467-466d-bae0-feca787c5524",
   "metadata": {},
   "outputs": [],
   "source": [
    "class myList(list):\n",
    "    def removeall(self, val):\n",
    "        return [i for i in items if i!=val]\n",
    "items = myList([5,2,3,6,8,7,9])\n",
    "x = myList.removeall(items, 6)"
   ]
  },
  {
   "cell_type": "code",
   "execution_count": 28,
   "id": "4d4330d1-4f2a-4da6-aeb8-41ec244d545b",
   "metadata": {},
   "outputs": [
    {
     "name": "stdout",
     "output_type": "stream",
     "text": [
      "[5, 2, 3, 8, 7, 9]\n"
     ]
    }
   ],
   "source": [
    "print(x)"
   ]
  },
  {
   "cell_type": "code",
   "execution_count": 29,
   "id": "1f6b92ea-0f41-4750-b301-c1173d0d93a8",
   "metadata": {},
   "outputs": [
    {
     "name": "stdout",
     "output_type": "stream",
     "text": [
      "9\n"
     ]
    }
   ],
   "source": [
    "if isinstance(items, (list,tuple)):\n",
    "    maxval = max(items)\n",
    "print(maxval)"
   ]
  },
  {
   "cell_type": "markdown",
   "id": "45921b6c-d503-469a-b9f9-c031c609b016",
   "metadata": {},
   "source": [
    "#### https://medium.com/analytics-vidhya/the-ultimate-markdown-guide-for-jupyter-notebook-d5e5abf728fd\n",
    "\n",
    "**This is bold text**  \n",
    "\n",
    "*This is italic text*  \n",
    "***Bold and Italic***  \n",
    "\n",
    "# STRIKETHROUGH\n",
    "~~Scratch this~~\n",
    "\n",
    "# BACKSLASH ESCAPE\n",
    "\n",
    "\\# Not a header\n",
    "\n",
    "# PARAGRAPHS\n",
    "Hello World!\n",
    "We are learning Markdown.\n",
    "\n",
    "# LINE BREAK\n",
    "Some text  Some more text\n",
    "\n",
    "\n",
    "# BLOCKQUOTES\n",
    "> This is a blockquote\n",
    "# NESTED BLOCK QUOTING\n",
    "> some text\n",
    ">> and then some more text\n",
    ">>> and then some more\n",
    "\n",
    "# HORIZONTAL LINE\n",
    "---\n",
    "___***\n",
    "\n",
    "# ORDERED LIST\n",
    "\n",
    "1. Cheese\n",
    "2. Carrot\n",
    "3. Coconut\n",
    "\n",
    "# UNORDERED LIST\n",
    "- Cheese\n",
    "- Carrot\n",
    "- Coconut\n",
    "\n"
   ]
  },
  {
   "cell_type": "markdown",
   "id": "7e9f0bf8-d934-4e83-a700-726611894562",
   "metadata": {},
   "source": [
    "## Garbage Collection"
   ]
  },
  {
   "cell_type": "code",
   "execution_count": 10,
   "id": "42c62ad1-5453-48ac-bdad-435c133e24ea",
   "metadata": {},
   "outputs": [
    {
     "data": {
      "text/plain": [
       "4294967295"
      ]
     },
     "execution_count": 10,
     "metadata": {},
     "output_type": "execute_result"
    }
   ],
   "source": [
    "a =37\n",
    "b =a \n",
    "c = []\n",
    "c.append(b)\n",
    "\n",
    "del a\n",
    "b = 42\n",
    "c[0] =2.0\n",
    "\n",
    "a = 37 \n",
    "\n",
    "#del a\n",
    "import sys\n",
    "sys.getrefcount(a)"
   ]
  },
  {
   "cell_type": "code",
   "execution_count": null,
   "id": "b76b6ec6-9b67-497b-b452-ee5c20fb5a36",
   "metadata": {},
   "outputs": [],
   "source": []
  }
 ],
 "metadata": {
  "kernelspec": {
   "display_name": "Python 3 (ipykernel)",
   "language": "python",
   "name": "python3"
  },
  "language_info": {
   "codemirror_mode": {
    "name": "ipython",
    "version": 3
   },
   "file_extension": ".py",
   "mimetype": "text/x-python",
   "name": "python",
   "nbconvert_exporter": "python",
   "pygments_lexer": "ipython3",
   "version": "3.12.4"
  }
 },
 "nbformat": 4,
 "nbformat_minor": 5
}
